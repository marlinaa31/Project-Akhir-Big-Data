{
 "cells": [
  {
   "cell_type": "markdown",
   "metadata": {},
   "source": [
    "### Import Library"
   ]
  },
  {
   "cell_type": "code",
   "execution_count": 1,
   "metadata": {},
   "outputs": [],
   "source": [
    "import os\n",
    "import pandas as pd\n",
    "from sklearn.model_selection import train_test_split\n",
    "from sklearn.feature_extraction.text import TfidfVectorizer\n",
    "from sklearn.svm import LinearSVC\n",
    "from sklearn.metrics import classification_report, accuracy_score"
   ]
  },
  {
   "cell_type": "code",
   "execution_count": 2,
   "metadata": {},
   "outputs": [],
   "source": [
    "# Path ke folder data utama\n",
    "data_folder = './data'\n",
    "\n",
    "# Inisialisasi list kosong untuk menyimpan data gabungan\n",
    "data_frames = []"
   ]
  },
  {
   "cell_type": "code",
   "execution_count": 3,
   "metadata": {},
   "outputs": [],
   "source": [
    "# Iterasi melalui setiap folder di direktori data\n",
    "for label in os.listdir(data_folder):\n",
    "    label_folder = os.path.join(data_folder, label)\n",
    "\n",
    "    # Pastikan bahwa ini adalah folder\n",
    "    if os.path.isdir(label_folder):\n",
    "        # Iterasi melalui file CSV di dalam folder\n",
    "        for file in os.listdir(label_folder):\n",
    "            file_path = os.path.join(label_folder, file)\n",
    "\n",
    "            # Periksa apakah file tersebut adalah CSV\n",
    "            if file.endswith('.csv'):\n",
    "                # Memuat file CSV dan menambahkan label\n",
    "                temp_data = pd.read_csv(file_path)\n",
    "                temp_data['label'] = label  # Menetapkan nama folder sebagai label\n",
    "                data_frames.append(temp_data)\n",
    "\n",
    "# Menggabungkan semua data menjadi satu DataFrame\n",
    "df = pd.concat(data_frames, ignore_index=True)"
   ]
  },
  {
   "cell_type": "code",
   "execution_count": 4,
   "metadata": {},
   "outputs": [
    {
     "name": "stdout",
     "output_type": "stream",
     "text": [
      "Jumlah baris duplikat berdasarkan 'title': 26\n",
      "Duplikasi dihapus. Baris yang tersisa: 23555\n"
     ]
    }
   ],
   "source": [
    "# Memeriksa duplikasi berdasarkan kolom 'Title'\n",
    "if 'title' in df.columns:\n",
    "    duplicates = df[df.duplicated(subset='title', keep=False)]  # Melihat data duplikasi untuk ditinjau\n",
    "    print(f\"Jumlah baris duplikat berdasarkan 'title': {len(duplicates)}\")\n",
    "\n",
    "    # Menghapus duplikasi, menyimpan kejadian pertama\n",
    "    df = df.drop_duplicates(subset='title', keep='first')\n",
    "    print(\"Duplikasi dihapus. Baris yang tersisa:\", len(df))\n",
    "else:\n",
    "    print(\"Kolom 'title' tidak ada di dataset.\")"
   ]
  },
  {
   "cell_type": "code",
   "execution_count": 5,
   "metadata": {},
   "outputs": [
    {
     "name": "stdout",
     "output_type": "stream",
     "text": [
      "Jumlah nilai yang hilang di 'content': 916\n"
     ]
    }
   ],
   "source": [
    "# Memeriksa nilai yang hilang atau tidak valid di kolom 'Content'\n",
    "if 'content' in df.columns:\n",
    "    print(f\"Jumlah nilai yang hilang di 'content': {df['content'].isnull().sum()}\")\n",
    "    df = df.dropna(subset=['content'])  # Menghapus baris dengan 'Content' yang hilang\n",
    "    df['Content'] = df['content'].astype(str)  # Memastikan semua nilai di 'Content' berupa string\n",
    "else:\n",
    "    print(\"Kolom 'content' tidak ada di dataset.\")\n",
    "    raise ValueError(\"Kolom 'content' diperlukan untuk klasifikasi teks.\")"
   ]
  },
  {
   "cell_type": "code",
   "execution_count": 6,
   "metadata": {},
   "outputs": [
    {
     "name": "stdout",
     "output_type": "stream",
     "text": [
      "Tipe data di 'Content': <class 'str'>    22639\n",
      "Name: content, dtype: int64\n"
     ]
    }
   ],
   "source": [
    "# Memeriksa tipe data di kolom 'Content'\n",
    "print(\"Tipe data di 'Content':\", df['content'].apply(type).value_counts())"
   ]
  },
  {
   "cell_type": "code",
   "execution_count": 7,
   "metadata": {},
   "outputs": [
    {
     "name": "stdout",
     "output_type": "stream",
     "text": [
      "Jumlah baris teks valid: 22639\n",
      "Jumlah nilai yang hilang di 'content': 0\n",
      "Contoh baris 'content' yang bermasalah:\n",
      "Empty DataFrame\n",
      "Columns: [link, title, date, content, author, label, Content]\n",
      "Index: []\n",
      "Data telah dibersihkan. Baris yang tersisa: 22639\n",
      "                                                link  \\\n",
      "0  https://www.cnnindonesia.com/ekonomi/202305011...   \n",
      "1  https://www.cnnindonesia.com/ekonomi/202305011...   \n",
      "2  https://www.cnnindonesia.com/ekonomi/202305011...   \n",
      "3  https://www.cnnindonesia.com/ekonomi/202305011...   \n",
      "4  https://www.cnnindonesia.com/ekonomi/202305011...   \n",
      "\n",
      "                                               title        date  \\\n",
      "0   Swiss-Belhotel Tuban: Rapat dengan Suasana Re...  2023-05-01   \n",
      "1   VIDEO: Sambutan Jokowi di Peringatan Hari Bur...  2023-05-01   \n",
      "2   Cerita Chef Yuli, dari Masak Buat Obama hingg...  2023-05-01   \n",
      "3   Jokowi: Pemerintah Undang Investasi Demi Kese...  2023-05-01   \n",
      "4   KAI Catat Arus Balik dari Wilayah Yogyakarta ...  2023-05-01   \n",
      "\n",
      "                                             content         author    label  \\\n",
      "0  pebisnis pengusaha mengadakan rapat konferensi...  CNN Indonesia  economy   \n",
      "1  presiden joko widodo jokowi selamat buruh peke...  CNN Indonesia  economy   \n",
      "2  sangka masakan hotel bintang salah pulau terpe...  CNN Indonesia  economy   \n",
      "3  presidenjoko widodomengucapkan selamat buruh p...  CNN Indonesia  economy   \n",
      "4  pt kereta api indonesia kai daerah operasi dao...  CNN Indonesia  economy   \n",
      "\n",
      "                                             Content  \n",
      "0  pebisnis pengusaha mengadakan rapat konferensi...  \n",
      "1  presiden joko widodo jokowi selamat buruh peke...  \n",
      "2  sangka masakan hotel bintang salah pulau terpe...  \n",
      "3  presidenjoko widodomengucapkan selamat buruh p...  \n",
      "4  pt kereta api indonesia kai daerah operasi dao...  \n"
     ]
    }
   ],
   "source": [
    "# Menghapus baris di mana 'Content' bukan string\n",
    "df = df[df['content'].apply(lambda x: isinstance(x, str))]\n",
    "print(\"Jumlah baris teks valid:\", len(df))\n",
    "\n",
    "# Memeriksa kembali data yang hilang atau tidak sesuai\n",
    "print(\"Jumlah nilai yang hilang di 'content':\", df['content'].isnull().sum())\n",
    "print(\"Contoh baris 'content' yang bermasalah:\")\n",
    "print(df[df['content'].str.strip() == \"\"].head())\n",
    "\n",
    "# Menghapus baris dengan 'Content' kosong atau tidak valid\n",
    "df = df[df['content'].str.strip() != \"\"]\n",
    "print(\"Data telah dibersihkan. Baris yang tersisa:\", len(df))\n",
    "print(df.head())"
   ]
  },
  {
   "cell_type": "code",
   "execution_count": 8,
   "metadata": {},
   "outputs": [],
   "source": [
    "# Asumsi teks yang akan diklasifikasikan ada di kolom bernama 'Content'\n",
    "X = df['content']  # Fitur: konten teks\n",
    "y = df['label']    # Label: nama folder\n",
    "\n",
    "# Membagi dataset menjadi data training dan testing\n",
    "X_train, X_test, y_train, y_test = train_test_split(X, y, test_size=0.2, random_state=42)"
   ]
  },
  {
   "cell_type": "code",
   "execution_count": 9,
   "metadata": {},
   "outputs": [],
   "source": [
    "# Praproses teks dan ekstraksi fitur menggunakan TF-IDF (stopwords sudah dihapus)\n",
    "vectorizer = TfidfVectorizer(max_features=1000)\n",
    "X_train_tfidf = vectorizer.fit_transform(X_train)\n",
    "X_test_tfidf = vectorizer.transform(X_test)"
   ]
  },
  {
   "cell_type": "code",
   "execution_count": 10,
   "metadata": {},
   "outputs": [
    {
     "name": "stderr",
     "output_type": "stream",
     "text": [
      "c:\\Users\\Asus\\anaconda3\\Lib\\site-packages\\sklearn\\svm\\_classes.py:32: FutureWarning: The default value of `dual` will change from `True` to `'auto'` in 1.5. Set the value of `dual` explicitly to suppress the warning.\n",
      "  warnings.warn(\n"
     ]
    },
    {
     "data": {
      "text/html": [
       "<style>#sk-container-id-1 {color: black;}#sk-container-id-1 pre{padding: 0;}#sk-container-id-1 div.sk-toggleable {background-color: white;}#sk-container-id-1 label.sk-toggleable__label {cursor: pointer;display: block;width: 100%;margin-bottom: 0;padding: 0.3em;box-sizing: border-box;text-align: center;}#sk-container-id-1 label.sk-toggleable__label-arrow:before {content: \"▸\";float: left;margin-right: 0.25em;color: #696969;}#sk-container-id-1 label.sk-toggleable__label-arrow:hover:before {color: black;}#sk-container-id-1 div.sk-estimator:hover label.sk-toggleable__label-arrow:before {color: black;}#sk-container-id-1 div.sk-toggleable__content {max-height: 0;max-width: 0;overflow: hidden;text-align: left;background-color: #f0f8ff;}#sk-container-id-1 div.sk-toggleable__content pre {margin: 0.2em;color: black;border-radius: 0.25em;background-color: #f0f8ff;}#sk-container-id-1 input.sk-toggleable__control:checked~div.sk-toggleable__content {max-height: 200px;max-width: 100%;overflow: auto;}#sk-container-id-1 input.sk-toggleable__control:checked~label.sk-toggleable__label-arrow:before {content: \"▾\";}#sk-container-id-1 div.sk-estimator input.sk-toggleable__control:checked~label.sk-toggleable__label {background-color: #d4ebff;}#sk-container-id-1 div.sk-label input.sk-toggleable__control:checked~label.sk-toggleable__label {background-color: #d4ebff;}#sk-container-id-1 input.sk-hidden--visually {border: 0;clip: rect(1px 1px 1px 1px);clip: rect(1px, 1px, 1px, 1px);height: 1px;margin: -1px;overflow: hidden;padding: 0;position: absolute;width: 1px;}#sk-container-id-1 div.sk-estimator {font-family: monospace;background-color: #f0f8ff;border: 1px dotted black;border-radius: 0.25em;box-sizing: border-box;margin-bottom: 0.5em;}#sk-container-id-1 div.sk-estimator:hover {background-color: #d4ebff;}#sk-container-id-1 div.sk-parallel-item::after {content: \"\";width: 100%;border-bottom: 1px solid gray;flex-grow: 1;}#sk-container-id-1 div.sk-label:hover label.sk-toggleable__label {background-color: #d4ebff;}#sk-container-id-1 div.sk-serial::before {content: \"\";position: absolute;border-left: 1px solid gray;box-sizing: border-box;top: 0;bottom: 0;left: 50%;z-index: 0;}#sk-container-id-1 div.sk-serial {display: flex;flex-direction: column;align-items: center;background-color: white;padding-right: 0.2em;padding-left: 0.2em;position: relative;}#sk-container-id-1 div.sk-item {position: relative;z-index: 1;}#sk-container-id-1 div.sk-parallel {display: flex;align-items: stretch;justify-content: center;background-color: white;position: relative;}#sk-container-id-1 div.sk-item::before, #sk-container-id-1 div.sk-parallel-item::before {content: \"\";position: absolute;border-left: 1px solid gray;box-sizing: border-box;top: 0;bottom: 0;left: 50%;z-index: -1;}#sk-container-id-1 div.sk-parallel-item {display: flex;flex-direction: column;z-index: 1;position: relative;background-color: white;}#sk-container-id-1 div.sk-parallel-item:first-child::after {align-self: flex-end;width: 50%;}#sk-container-id-1 div.sk-parallel-item:last-child::after {align-self: flex-start;width: 50%;}#sk-container-id-1 div.sk-parallel-item:only-child::after {width: 0;}#sk-container-id-1 div.sk-dashed-wrapped {border: 1px dashed gray;margin: 0 0.4em 0.5em 0.4em;box-sizing: border-box;padding-bottom: 0.4em;background-color: white;}#sk-container-id-1 div.sk-label label {font-family: monospace;font-weight: bold;display: inline-block;line-height: 1.2em;}#sk-container-id-1 div.sk-label-container {text-align: center;}#sk-container-id-1 div.sk-container {/* jupyter's `normalize.less` sets `[hidden] { display: none; }` but bootstrap.min.css set `[hidden] { display: none !important; }` so we also need the `!important` here to be able to override the default hidden behavior on the sphinx rendered scikit-learn.org. See: https://github.com/scikit-learn/scikit-learn/issues/21755 */display: inline-block !important;position: relative;}#sk-container-id-1 div.sk-text-repr-fallback {display: none;}</style><div id=\"sk-container-id-1\" class=\"sk-top-container\"><div class=\"sk-text-repr-fallback\"><pre>LinearSVC()</pre><b>In a Jupyter environment, please rerun this cell to show the HTML representation or trust the notebook. <br />On GitHub, the HTML representation is unable to render, please try loading this page with nbviewer.org.</b></div><div class=\"sk-container\" hidden><div class=\"sk-item\"><div class=\"sk-estimator sk-toggleable\"><input class=\"sk-toggleable__control sk-hidden--visually\" id=\"sk-estimator-id-1\" type=\"checkbox\" checked><label for=\"sk-estimator-id-1\" class=\"sk-toggleable__label sk-toggleable__label-arrow\">LinearSVC</label><div class=\"sk-toggleable__content\"><pre>LinearSVC()</pre></div></div></div></div></div>"
      ],
      "text/plain": [
       "LinearSVC()"
      ]
     },
     "execution_count": 10,
     "metadata": {},
     "output_type": "execute_result"
    }
   ],
   "source": [
    "# Melatih model SVM menggunakan LinearSVC\n",
    "model = LinearSVC()\n",
    "model.fit(X_train_tfidf, y_train)"
   ]
  },
  {
   "cell_type": "code",
   "execution_count": 11,
   "metadata": {},
   "outputs": [
    {
     "name": "stdout",
     "output_type": "stream",
     "text": [
      "12824    SanhaASTROdikonfirmasi sedang mempersiapkan di...\n",
      "13200    AktorJoaquin Phoenixhengkang dari film terbaru...\n",
      "9351     King of the Monsters,Godzilla, akan kembali ke...\n",
      "17655    kabid binprespp pbsi ricky soebagdja menyebut ...\n",
      "13454    Bioskop Trans TVmalam ini, Sabtu (7/9), akan m...\n",
      "                               ...                        \n",
      "3924     menteri koordinator bidang perekonomianairlang...\n",
      "1066     otorita kota nusantara iknmenyebutdelapan peru...\n",
      "11701    Bioskop Trans TVmalam ini, Senin (11/3), akan ...\n",
      "5779     idul adha muslim disunnahkan membaca takbir or...\n",
      "9079     Kisah serialXO, Kittybakal berlanjut menuju mu...\n",
      "Name: content, Length: 4528, dtype: object\n"
     ]
    }
   ],
   "source": [
    "print(X_test)"
   ]
  },
  {
   "cell_type": "code",
   "execution_count": 12,
   "metadata": {},
   "outputs": [
    {
     "name": "stdout",
     "output_type": "stream",
     "text": [
      "Akurasi: 0.9693021201413428\n",
      "Laporan Klasifikasi:\n",
      "                precision    recall  f1-score   support\n",
      "\n",
      "      economy       0.95      0.96      0.95       990\n",
      "    education       0.96      0.97      0.97       736\n",
      "entertainment       1.00      1.00      1.00       933\n",
      "        sport       0.99      0.99      0.99       982\n",
      "   technology       0.95      0.93      0.94       887\n",
      "\n",
      "     accuracy                           0.97      4528\n",
      "    macro avg       0.97      0.97      0.97      4528\n",
      " weighted avg       0.97      0.97      0.97      4528\n",
      "\n"
     ]
    }
   ],
   "source": [
    "# Transformasi X_test menggunakan TF-IDF vectorizer yang sama saat training\n",
    "X_test_tfidf = vectorizer.transform(X_test)\n",
    "\n",
    "# Memprediksi menggunakan model yang telah dilatih\n",
    "y_pred = model.predict(X_test_tfidf)\n",
    "\n",
    "# Evaluasi model\n",
    "print(\"Akurasi:\", accuracy_score(y_test, y_pred))\n",
    "print(\"Laporan Klasifikasi:\\n\", classification_report(y_test, y_pred))"
   ]
  },
  {
   "cell_type": "code",
   "execution_count": 13,
   "metadata": {},
   "outputs": [
    {
     "name": "stdout",
     "output_type": "stream",
     "text": [
      "Label Prediksi: ['sport']\n"
     ]
    }
   ],
   "source": [
    "# Memprediksi data baru\n",
    "new_texts = [\"Hasil SEA Games: Duel Alot Banyak Kartu, Kamboja dan Filipina Imbang\"]\n",
    "new_texts_tfidf = vectorizer.transform(new_texts)\n",
    "predicted_labels = model.predict(new_texts_tfidf)\n",
    "print(\"Label Prediksi:\", predicted_labels)"
   ]
  },
  {
   "cell_type": "code",
   "execution_count": 14,
   "metadata": {},
   "outputs": [
    {
     "name": "stdout",
     "output_type": "stream",
     "text": [
      "Model dan Vectorizer telah disimpan.\n"
     ]
    }
   ],
   "source": [
    "import joblib\n",
    "\n",
    "# Menyimpan model\n",
    "joblib.dump(model, 'text_classification_model.pkl')\n",
    "\n",
    "# Menyimpan TF-IDF vectorizer\n",
    "joblib.dump(vectorizer, 'tfidf_vectorizer.pkl')\n",
    "\n",
    "print(\"Model dan Vectorizer telah disimpan.\")"
   ]
  }
 ],
 "metadata": {
  "kernelspec": {
   "display_name": "base",
   "language": "python",
   "name": "python3"
  },
  "language_info": {
   "codemirror_mode": {
    "name": "ipython",
    "version": 3
   },
   "file_extension": ".py",
   "mimetype": "text/x-python",
   "name": "python",
   "nbconvert_exporter": "python",
   "pygments_lexer": "ipython3",
   "version": "3.11.4"
  }
 },
 "nbformat": 4,
 "nbformat_minor": 2
}
